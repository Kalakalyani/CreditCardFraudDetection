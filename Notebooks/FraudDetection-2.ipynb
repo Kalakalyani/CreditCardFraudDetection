{
 "cells": [
  {
   "cell_type": "markdown",
   "metadata": {},
   "source": [
    "# Credit Card Fraud Detection\n",
    "\n",
    "## Contents\n",
    "\n",
    "### [1. Introduction](#intro)\n",
    "\n",
    "### [2. Data Preparation](#data)\n",
    "   * **Import the required libraries**\n",
    "   * **Download and unzip the dataset**\n",
    "   * **Split the dataset**\n",
    "   \n",
    "### [3. Exploratory Analysis](#explore)\n",
    "\n",
    "### [4. Model Architecture](#cnn)\n",
    "   * **Set hyperparameters**\n",
    "   * **Define the model**\n",
    "   * **Set optimizer** \n",
    "   * **Compile model**\n",
    "   * **Train model**\n",
    "\n",
    "### [5. Model Evaluation](#eval)\n",
    "   * **Training Accuracy vs Validation Accuracy**\n",
    "   * **Training Loss vs Validation Loss**\n",
    "   * **Model Accuracy**\n",
    "   * **Observations**\n",
    "\n",
    "### [6. Prediction](#predict)\n",
    "\n",
    "### [7. Save Model to Disk](#save)\n",
    "  "
   ]
  },
  {
   "cell_type": "markdown",
   "metadata": {},
   "source": [
    "<a id=\"intro\"></a>\n",
    "### 1. Introduction"
   ]
  },
  {
   "cell_type": "markdown",
   "metadata": {},
   "source": [
    "#### About the dataset\n",
    "The datasets contains transactions made by credit cards in September 2013 by european cardholders.\n",
    "This dataset presents transactions that occurred in two days, where we have 492 frauds out of 284,807 transactions. The dataset is highly unbalanced, the positive class (frauds) account for 0.172% of all transactions.\n",
    "\n",
    "It contains only numerical input variables which are the result of a PCA transformation. Unfortunately, due to confidentiality issues, we cannot provide the original features and more background information about the data. Features V1, V2, … V28 are the principal components obtained with PCA, the only features which have not been transformed with PCA are 'Time' and 'Amount'. Feature 'Time' contains the seconds elapsed between each transaction and the first transaction in the dataset. The feature 'Amount' is the transaction Amount, this feature can be used for example-dependant cost-senstive learning.\n",
    "\n",
    "#### Problem statement\n",
    "Classify the transactions as **fraud (1)** and **legitimate (0)**.\n",
    "\n",
    "#### Dataset link: https://www.kaggle.com/mlg-ulb/creditcardfraud/"
   ]
  },
  {
   "cell_type": "markdown",
   "metadata": {},
   "source": [
    "<a id=\"data\"></a>\n",
    "### 2. Data Preparation"
   ]
  },
  {
   "cell_type": "markdown",
   "metadata": {},
   "source": [
    "#### Import the required libraries"
   ]
  },
  {
   "cell_type": "code",
   "execution_count": 1,
   "metadata": {},
   "outputs": [],
   "source": [
    "import pandas as pd\n",
    "import numpy as np\n",
    "import matplotlib.pyplot as plt\n",
    "import seaborn as sns\n",
    "from sklearn.model_selection import train_test_split\n",
    "from sklearn.linear_model import LogisticRegression\n",
    "from sklearn.neighbors import KNeighborsClassifier\n",
    "from sklearn.tree import DecisionTreeClassifier\n",
    "from sklearn.ensemble import RandomForestClassifier\n",
    "from sklearn.ensemble import GradientBoostingClassifier\n",
    "from sklearn.preprocessing import MinMaxScaler\n",
    "from sklearn.utils import resample\n",
    "from sklearn.metrics import confusion_matrix\n",
    "import itertools\n",
    "%matplotlib inline"
   ]
  },
  {
   "cell_type": "code",
   "execution_count": 2,
   "metadata": {},
   "outputs": [
    {
     "name": "stderr",
     "output_type": "stream",
     "text": [
      "Using TensorFlow backend.\n"
     ]
    }
   ],
   "source": [
    "import keras\n",
    "from keras import backend as k\n",
    "from keras.models import Sequential\n",
    "from keras.layers import Activation\n",
    "from keras.layers.core import Dense\n",
    "from keras.optimizers import Adam\n",
    "from keras.metrics import categorical_crossentropy"
   ]
  },
  {
   "cell_type": "markdown",
   "metadata": {},
   "source": [
    "#### Download and unzip the dataset"
   ]
  },
  {
   "cell_type": "markdown",
   "metadata": {},
   "source": [
    "### To download data directly directly to this notebook follow the instructions given below:\n",
    "\n",
    "#### Initially install kaggle by typing            pip  install kaggle         in command line.\n",
    "\n",
    "### Api Credentials\n",
    "\n",
    "#### To use the Kaggle API, sign up for a Kaggle account at https://www.kaggle.com. Then go to the 'Account' tab of your user profile (https://www.kaggle.com/<username>/account) and select 'Create API Token'. This will trigger the download of kaggle.json, a file containing your API credentials. Place this file in the location ~/.kaggle/kaggle.json (on Windows in the location C:\\Users\\<Windows-username>\\.kaggle\\kaggle.json - you can check the exact location, sans drive, with echo %HOMEPATH%). You can define a shell environment variable KAGGLE_CONFIG_DIR to change this location to $KAGGLE_CONFIG_DIR/kaggle.json (on Windows it will be %KAGGLE_CONFIG_DIR%\\kaggle.json).\n"
   ]
  },
  {
   "cell_type": "markdown",
   "metadata": {},
   "source": [
    "### for more information refer to   https://github.com/Kaggle/kaggle-api"
   ]
  },
  {
   "cell_type": "code",
   "execution_count": 3,
   "metadata": {},
   "outputs": [
    {
     "name": "stdout",
     "output_type": "stream",
     "text": [
      "Downloading 310%2F23498%2Fcompressed%2Fcreditcard.csv.zip to /home/atrides/Desktop/CreditCardFraudDetection-master/Notebooks\n",
      "100%|███████████████████████████████████████| 66.0M/66.0M [01:03<00:00, 661kB/s]\n",
      "100%|██████████████████████████████████████| 66.0M/66.0M [01:03<00:00, 1.09MB/s]\n"
     ]
    }
   ],
   "source": [
    "!kaggle datasets download mlg-ulb/creditcardfraud -f creditcard.csv"
   ]
  },
  {
   "cell_type": "code",
   "execution_count": 4,
   "metadata": {},
   "outputs": [],
   "source": [
    "my_zipfile = '310%2F23498%2Fcompressed%2Fcreditcard.csv.zip'"
   ]
  },
  {
   "cell_type": "code",
   "execution_count": 5,
   "metadata": {},
   "outputs": [],
   "source": [
    "import zipfile\n",
    "with zipfile.ZipFile(my_zipfile, 'r') as zip_ref:\n",
    "    zip_ref.extractall('')"
   ]
  },
  {
   "cell_type": "code",
   "execution_count": 6,
   "metadata": {},
   "outputs": [],
   "source": [
    "df  = pd.read_csv('creditcard.csv')"
   ]
  },
  {
   "cell_type": "code",
   "execution_count": 7,
   "metadata": {},
   "outputs": [
    {
     "data": {
      "text/html": [
       "<div>\n",
       "<style scoped>\n",
       "    .dataframe tbody tr th:only-of-type {\n",
       "        vertical-align: middle;\n",
       "    }\n",
       "\n",
       "    .dataframe tbody tr th {\n",
       "        vertical-align: top;\n",
       "    }\n",
       "\n",
       "    .dataframe thead th {\n",
       "        text-align: right;\n",
       "    }\n",
       "</style>\n",
       "<table border=\"1\" class=\"dataframe\">\n",
       "  <thead>\n",
       "    <tr style=\"text-align: right;\">\n",
       "      <th></th>\n",
       "      <th>Time</th>\n",
       "      <th>V1</th>\n",
       "      <th>V2</th>\n",
       "      <th>V3</th>\n",
       "      <th>V4</th>\n",
       "      <th>V5</th>\n",
       "      <th>V6</th>\n",
       "      <th>V7</th>\n",
       "      <th>V8</th>\n",
       "      <th>V9</th>\n",
       "      <th>...</th>\n",
       "      <th>V21</th>\n",
       "      <th>V22</th>\n",
       "      <th>V23</th>\n",
       "      <th>V24</th>\n",
       "      <th>V25</th>\n",
       "      <th>V26</th>\n",
       "      <th>V27</th>\n",
       "      <th>V28</th>\n",
       "      <th>Amount</th>\n",
       "      <th>Class</th>\n",
       "    </tr>\n",
       "  </thead>\n",
       "  <tbody>\n",
       "    <tr>\n",
       "      <th>0</th>\n",
       "      <td>0.0</td>\n",
       "      <td>-1.359807</td>\n",
       "      <td>-0.072781</td>\n",
       "      <td>2.536347</td>\n",
       "      <td>1.378155</td>\n",
       "      <td>-0.338321</td>\n",
       "      <td>0.462388</td>\n",
       "      <td>0.239599</td>\n",
       "      <td>0.098698</td>\n",
       "      <td>0.363787</td>\n",
       "      <td>...</td>\n",
       "      <td>-0.018307</td>\n",
       "      <td>0.277838</td>\n",
       "      <td>-0.110474</td>\n",
       "      <td>0.066928</td>\n",
       "      <td>0.128539</td>\n",
       "      <td>-0.189115</td>\n",
       "      <td>0.133558</td>\n",
       "      <td>-0.021053</td>\n",
       "      <td>149.62</td>\n",
       "      <td>0</td>\n",
       "    </tr>\n",
       "    <tr>\n",
       "      <th>1</th>\n",
       "      <td>0.0</td>\n",
       "      <td>1.191857</td>\n",
       "      <td>0.266151</td>\n",
       "      <td>0.166480</td>\n",
       "      <td>0.448154</td>\n",
       "      <td>0.060018</td>\n",
       "      <td>-0.082361</td>\n",
       "      <td>-0.078803</td>\n",
       "      <td>0.085102</td>\n",
       "      <td>-0.255425</td>\n",
       "      <td>...</td>\n",
       "      <td>-0.225775</td>\n",
       "      <td>-0.638672</td>\n",
       "      <td>0.101288</td>\n",
       "      <td>-0.339846</td>\n",
       "      <td>0.167170</td>\n",
       "      <td>0.125895</td>\n",
       "      <td>-0.008983</td>\n",
       "      <td>0.014724</td>\n",
       "      <td>2.69</td>\n",
       "      <td>0</td>\n",
       "    </tr>\n",
       "    <tr>\n",
       "      <th>2</th>\n",
       "      <td>1.0</td>\n",
       "      <td>-1.358354</td>\n",
       "      <td>-1.340163</td>\n",
       "      <td>1.773209</td>\n",
       "      <td>0.379780</td>\n",
       "      <td>-0.503198</td>\n",
       "      <td>1.800499</td>\n",
       "      <td>0.791461</td>\n",
       "      <td>0.247676</td>\n",
       "      <td>-1.514654</td>\n",
       "      <td>...</td>\n",
       "      <td>0.247998</td>\n",
       "      <td>0.771679</td>\n",
       "      <td>0.909412</td>\n",
       "      <td>-0.689281</td>\n",
       "      <td>-0.327642</td>\n",
       "      <td>-0.139097</td>\n",
       "      <td>-0.055353</td>\n",
       "      <td>-0.059752</td>\n",
       "      <td>378.66</td>\n",
       "      <td>0</td>\n",
       "    </tr>\n",
       "    <tr>\n",
       "      <th>3</th>\n",
       "      <td>1.0</td>\n",
       "      <td>-0.966272</td>\n",
       "      <td>-0.185226</td>\n",
       "      <td>1.792993</td>\n",
       "      <td>-0.863291</td>\n",
       "      <td>-0.010309</td>\n",
       "      <td>1.247203</td>\n",
       "      <td>0.237609</td>\n",
       "      <td>0.377436</td>\n",
       "      <td>-1.387024</td>\n",
       "      <td>...</td>\n",
       "      <td>-0.108300</td>\n",
       "      <td>0.005274</td>\n",
       "      <td>-0.190321</td>\n",
       "      <td>-1.175575</td>\n",
       "      <td>0.647376</td>\n",
       "      <td>-0.221929</td>\n",
       "      <td>0.062723</td>\n",
       "      <td>0.061458</td>\n",
       "      <td>123.50</td>\n",
       "      <td>0</td>\n",
       "    </tr>\n",
       "    <tr>\n",
       "      <th>4</th>\n",
       "      <td>2.0</td>\n",
       "      <td>-1.158233</td>\n",
       "      <td>0.877737</td>\n",
       "      <td>1.548718</td>\n",
       "      <td>0.403034</td>\n",
       "      <td>-0.407193</td>\n",
       "      <td>0.095921</td>\n",
       "      <td>0.592941</td>\n",
       "      <td>-0.270533</td>\n",
       "      <td>0.817739</td>\n",
       "      <td>...</td>\n",
       "      <td>-0.009431</td>\n",
       "      <td>0.798278</td>\n",
       "      <td>-0.137458</td>\n",
       "      <td>0.141267</td>\n",
       "      <td>-0.206010</td>\n",
       "      <td>0.502292</td>\n",
       "      <td>0.219422</td>\n",
       "      <td>0.215153</td>\n",
       "      <td>69.99</td>\n",
       "      <td>0</td>\n",
       "    </tr>\n",
       "  </tbody>\n",
       "</table>\n",
       "<p>5 rows × 31 columns</p>\n",
       "</div>"
      ],
      "text/plain": [
       "   Time        V1        V2        V3        V4        V5        V6        V7  \\\n",
       "0   0.0 -1.359807 -0.072781  2.536347  1.378155 -0.338321  0.462388  0.239599   \n",
       "1   0.0  1.191857  0.266151  0.166480  0.448154  0.060018 -0.082361 -0.078803   \n",
       "2   1.0 -1.358354 -1.340163  1.773209  0.379780 -0.503198  1.800499  0.791461   \n",
       "3   1.0 -0.966272 -0.185226  1.792993 -0.863291 -0.010309  1.247203  0.237609   \n",
       "4   2.0 -1.158233  0.877737  1.548718  0.403034 -0.407193  0.095921  0.592941   \n",
       "\n",
       "         V8        V9  ...       V21       V22       V23       V24       V25  \\\n",
       "0  0.098698  0.363787  ... -0.018307  0.277838 -0.110474  0.066928  0.128539   \n",
       "1  0.085102 -0.255425  ... -0.225775 -0.638672  0.101288 -0.339846  0.167170   \n",
       "2  0.247676 -1.514654  ...  0.247998  0.771679  0.909412 -0.689281 -0.327642   \n",
       "3  0.377436 -1.387024  ... -0.108300  0.005274 -0.190321 -1.175575  0.647376   \n",
       "4 -0.270533  0.817739  ... -0.009431  0.798278 -0.137458  0.141267 -0.206010   \n",
       "\n",
       "        V26       V27       V28  Amount  Class  \n",
       "0 -0.189115  0.133558 -0.021053  149.62      0  \n",
       "1  0.125895 -0.008983  0.014724    2.69      0  \n",
       "2 -0.139097 -0.055353 -0.059752  378.66      0  \n",
       "3 -0.221929  0.062723  0.061458  123.50      0  \n",
       "4  0.502292  0.219422  0.215153   69.99      0  \n",
       "\n",
       "[5 rows x 31 columns]"
      ]
     },
     "execution_count": 7,
     "metadata": {},
     "output_type": "execute_result"
    }
   ],
   "source": [
    "df.head()"
   ]
  },
  {
   "cell_type": "markdown",
   "metadata": {},
   "source": [
    "<a id=\"explore\"></a>\n",
    "### 3. Exploratory Analysis"
   ]
  },
  {
   "cell_type": "code",
   "execution_count": 8,
   "metadata": {},
   "outputs": [
    {
     "data": {
      "text/plain": [
       "(284807, 31)"
      ]
     },
     "execution_count": 8,
     "metadata": {},
     "output_type": "execute_result"
    }
   ],
   "source": [
    "# Datset shape\n",
    "df.shape"
   ]
  },
  {
   "cell_type": "code",
   "execution_count": 9,
   "metadata": {},
   "outputs": [
    {
     "data": {
      "text/plain": [
       "array([0, 1])"
      ]
     },
     "execution_count": 9,
     "metadata": {},
     "output_type": "execute_result"
    }
   ],
   "source": [
    "# let's check what different classes are present in our dataset\n",
    "\n",
    "df['Class'].unique()"
   ]
  },
  {
   "cell_type": "code",
   "execution_count": 10,
   "metadata": {},
   "outputs": [
    {
     "data": {
      "image/png": "[encoded data removed]",
      "text/plain": [
       "<Figure size 432x288 with 1 Axes>"
      ]
     },
     "metadata": {
      "needs_background": "light"
     },
     "output_type": "display_data"
    }
   ],
   "source": [
    "_ = sns.countplot(x='Class',data=df)"
   ]
  },
  {
   "cell_type": "code",
   "execution_count": 11,
   "metadata": {},
   "outputs": [
    {
     "data": {
      "image/png": "[encoded data removed]",
      "text/plain": [
       "<Figure size 432x288 with 1 Axes>"
      ]
     },
     "metadata": {
      "needs_background": "light"
     },
     "output_type": "display_data"
    }
   ],
   "source": [
    "fig, ax = plt.subplots()\n",
    "_ = sns.kdeplot(df['Class'] , color='gray',bw=0.15)"
   ]
  },
  {
   "cell_type": "code",
   "execution_count": 12,
   "metadata": {},
   "outputs": [
    {
     "data": {
      "text/html": [
       "<div>\n",
       "<style scoped>\n",
       "    .dataframe tbody tr th:only-of-type {\n",
       "        vertical-align: middle;\n",
       "    }\n",
       "\n",
       "    .dataframe tbody tr th {\n",
       "        vertical-align: top;\n",
       "    }\n",
       "\n",
       "    .dataframe thead th {\n",
       "        text-align: right;\n",
       "    }\n",
       "</style>\n",
       "<table border=\"1\" class=\"dataframe\">\n",
       "  <thead>\n",
       "    <tr style=\"text-align: right;\">\n",
       "      <th></th>\n",
       "      <th>Time</th>\n",
       "      <th>V1</th>\n",
       "      <th>V2</th>\n",
       "      <th>V3</th>\n",
       "      <th>V4</th>\n",
       "      <th>V5</th>\n",
       "      <th>V6</th>\n",
       "      <th>V7</th>\n",
       "      <th>V8</th>\n",
       "      <th>V9</th>\n",
       "      <th>...</th>\n",
       "      <th>V21</th>\n",
       "      <th>V22</th>\n",
       "      <th>V23</th>\n",
       "      <th>V24</th>\n",
       "      <th>V25</th>\n",
       "      <th>V26</th>\n",
       "      <th>V27</th>\n",
       "      <th>V28</th>\n",
       "      <th>Amount</th>\n",
       "      <th>Class</th>\n",
       "    </tr>\n",
       "  </thead>\n",
       "  <tbody>\n",
       "    <tr>\n",
       "      <th>count</th>\n",
       "      <td>284807.000000</td>\n",
       "      <td>2.848070e+05</td>\n",
       "      <td>2.848070e+05</td>\n",
       "      <td>2.848070e+05</td>\n",
       "      <td>2.848070e+05</td>\n",
       "      <td>2.848070e+05</td>\n",
       "      <td>2.848070e+05</td>\n",
       "      <td>2.848070e+05</td>\n",
       "      <td>2.848070e+05</td>\n",
       "      <td>2.848070e+05</td>\n",
       "      <td>...</td>\n",
       "      <td>2.848070e+05</td>\n",
       "      <td>2.848070e+05</td>\n",
       "      <td>2.848070e+05</td>\n",
       "      <td>2.848070e+05</td>\n",
       "      <td>2.848070e+05</td>\n",
       "      <td>2.848070e+05</td>\n",
       "      <td>2.848070e+05</td>\n",
       "      <td>2.848070e+05</td>\n",
       "      <td>284807.000000</td>\n",
       "      <td>284807.000000</td>\n",
       "    </tr>\n",
       "    <tr>\n",
       "      <th>mean</th>\n",
       "      <td>94813.859575</td>\n",
       "      <td>3.919560e-15</td>\n",
       "      <td>5.688174e-16</td>\n",
       "      <td>-8.769071e-15</td>\n",
       "      <td>2.782312e-15</td>\n",
       "      <td>-1.552563e-15</td>\n",
       "      <td>2.010663e-15</td>\n",
       "      <td>-1.694249e-15</td>\n",
       "      <td>-1.927028e-16</td>\n",
       "      <td>-3.137024e-15</td>\n",
       "      <td>...</td>\n",
       "      <td>1.537294e-16</td>\n",
       "      <td>7.959909e-16</td>\n",
       "      <td>5.367590e-16</td>\n",
       "      <td>4.458112e-15</td>\n",
       "      <td>1.453003e-15</td>\n",
       "      <td>1.699104e-15</td>\n",
       "      <td>-3.660161e-16</td>\n",
       "      <td>-1.206049e-16</td>\n",
       "      <td>88.349619</td>\n",
       "      <td>0.001727</td>\n",
       "    </tr>\n",
       "    <tr>\n",
       "      <th>std</th>\n",
       "      <td>47488.145955</td>\n",
       "      <td>1.958696e+00</td>\n",
       "      <td>1.651309e+00</td>\n",
       "      <td>1.516255e+00</td>\n",
       "      <td>1.415869e+00</td>\n",
       "      <td>1.380247e+00</td>\n",
       "      <td>1.332271e+00</td>\n",
       "      <td>1.237094e+00</td>\n",
       "      <td>1.194353e+00</td>\n",
       "      <td>1.098632e+00</td>\n",
       "      <td>...</td>\n",
       "      <td>7.345240e-01</td>\n",
       "      <td>7.257016e-01</td>\n",
       "      <td>6.244603e-01</td>\n",
       "      <td>6.056471e-01</td>\n",
       "      <td>5.212781e-01</td>\n",
       "      <td>4.822270e-01</td>\n",
       "      <td>4.036325e-01</td>\n",
       "      <td>3.300833e-01</td>\n",
       "      <td>250.120109</td>\n",
       "      <td>0.041527</td>\n",
       "    </tr>\n",
       "    <tr>\n",
       "      <th>min</th>\n",
       "      <td>0.000000</td>\n",
       "      <td>-5.640751e+01</td>\n",
       "      <td>-7.271573e+01</td>\n",
       "      <td>-4.832559e+01</td>\n",
       "      <td>-5.683171e+00</td>\n",
       "      <td>-1.137433e+02</td>\n",
       "      <td>-2.616051e+01</td>\n",
       "      <td>-4.355724e+01</td>\n",
       "      <td>-7.321672e+01</td>\n",
       "      <td>-1.343407e+01</td>\n",
       "      <td>...</td>\n",
       "      <td>-3.483038e+01</td>\n",
       "      <td>-1.093314e+01</td>\n",
       "      <td>-4.480774e+01</td>\n",
       "      <td>-2.836627e+00</td>\n",
       "      <td>-1.029540e+01</td>\n",
       "      <td>-2.604551e+00</td>\n",
       "      <td>-2.256568e+01</td>\n",
       "      <td>-1.543008e+01</td>\n",
       "      <td>0.000000</td>\n",
       "      <td>0.000000</td>\n",
       "    </tr>\n",
       "    <tr>\n",
       "      <th>25%</th>\n",
       "      <td>54201.500000</td>\n",
       "      <td>-9.203734e-01</td>\n",
       "      <td>-5.985499e-01</td>\n",
       "      <td>-8.903648e-01</td>\n",
       "      <td>-8.486401e-01</td>\n",
       "      <td>-6.915971e-01</td>\n",
       "      <td>-7.682956e-01</td>\n",
       "      <td>-5.540759e-01</td>\n",
       "      <td>-2.086297e-01</td>\n",
       "      <td>-6.430976e-01</td>\n",
       "      <td>...</td>\n",
       "      <td>-2.283949e-01</td>\n",
       "      <td>-5.423504e-01</td>\n",
       "      <td>-1.618463e-01</td>\n",
       "      <td>-3.545861e-01</td>\n",
       "      <td>-3.171451e-01</td>\n",
       "      <td>-3.269839e-01</td>\n",
       "      <td>-7.083953e-02</td>\n",
       "      <td>-5.295979e-02</td>\n",
       "      <td>5.600000</td>\n",
       "      <td>0.000000</td>\n",
       "    </tr>\n",
       "    <tr>\n",
       "      <th>50%</th>\n",
       "      <td>84692.000000</td>\n",
       "      <td>1.810880e-02</td>\n",
       "      <td>6.548556e-02</td>\n",
       "      <td>1.798463e-01</td>\n",
       "      <td>-1.984653e-02</td>\n",
       "      <td>-5.433583e-02</td>\n",
       "      <td>-2.741871e-01</td>\n",
       "      <td>4.010308e-02</td>\n",
       "      <td>2.235804e-02</td>\n",
       "      <td>-5.142873e-02</td>\n",
       "      <td>...</td>\n",
       "      <td>-2.945017e-02</td>\n",
       "      <td>6.781943e-03</td>\n",
       "      <td>-1.119293e-02</td>\n",
       "      <td>4.097606e-02</td>\n",
       "      <td>1.659350e-02</td>\n",
       "      <td>-5.213911e-02</td>\n",
       "      <td>1.342146e-03</td>\n",
       "      <td>1.124383e-02</td>\n",
       "      <td>22.000000</td>\n",
       "      <td>0.000000</td>\n",
       "    </tr>\n",
       "    <tr>\n",
       "      <th>75%</th>\n",
       "      <td>139320.500000</td>\n",
       "      <td>1.315642e+00</td>\n",
       "      <td>8.037239e-01</td>\n",
       "      <td>1.027196e+00</td>\n",
       "      <td>7.433413e-01</td>\n",
       "      <td>6.119264e-01</td>\n",
       "      <td>3.985649e-01</td>\n",
       "      <td>5.704361e-01</td>\n",
       "      <td>3.273459e-01</td>\n",
       "      <td>5.971390e-01</td>\n",
       "      <td>...</td>\n",
       "      <td>1.863772e-01</td>\n",
       "      <td>5.285536e-01</td>\n",
       "      <td>1.476421e-01</td>\n",
       "      <td>4.395266e-01</td>\n",
       "      <td>3.507156e-01</td>\n",
       "      <td>2.409522e-01</td>\n",
       "      <td>9.104512e-02</td>\n",
       "      <td>7.827995e-02</td>\n",
       "      <td>77.165000</td>\n",
       "      <td>0.000000</td>\n",
       "    </tr>\n",
       "    <tr>\n",
       "      <th>max</th>\n",
       "      <td>172792.000000</td>\n",
       "      <td>2.454930e+00</td>\n",
       "      <td>2.205773e+01</td>\n",
       "      <td>9.382558e+00</td>\n",
       "      <td>1.687534e+01</td>\n",
       "      <td>3.480167e+01</td>\n",
       "      <td>7.330163e+01</td>\n",
       "      <td>1.205895e+02</td>\n",
       "      <td>2.000721e+01</td>\n",
       "      <td>1.559499e+01</td>\n",
       "      <td>...</td>\n",
       "      <td>2.720284e+01</td>\n",
       "      <td>1.050309e+01</td>\n",
       "      <td>2.252841e+01</td>\n",
       "      <td>4.584549e+00</td>\n",
       "      <td>7.519589e+00</td>\n",
       "      <td>3.517346e+00</td>\n",
       "      <td>3.161220e+01</td>\n",
       "      <td>3.384781e+01</td>\n",
       "      <td>25691.160000</td>\n",
       "      <td>1.000000</td>\n",
       "    </tr>\n",
       "  </tbody>\n",
       "</table>\n",
       "<p>8 rows × 31 columns</p>\n",
       "</div>"
      ],
      "text/plain": [
       "                Time            V1            V2            V3            V4  \\\n",
       "count  284807.000000  2.848070e+05  2.848070e+05  2.848070e+05  2.848070e+05   \n",
       "mean    94813.859575  3.919560e-15  5.688174e-16 -8.769071e-15  2.782312e-15   \n",
       "std     47488.145955  1.958696e+00  1.651309e+00  1.516255e+00  1.415869e+00   \n",
       "min         0.000000 -5.640751e+01 -7.271573e+01 -4.832559e+01 -5.683171e+00   \n",
       "25%     54201.500000 -9.203734e-01 -5.985499e-01 -8.903648e-01 -8.486401e-01   \n",
       "50%     84692.000000  1.810880e-02  6.548556e-02  1.798463e-01 -1.984653e-02   \n",
       "75%    139320.500000  1.315642e+00  8.037239e-01  1.027196e+00  7.433413e-01   \n",
       "max    172792.000000  2.454930e+00  2.205773e+01  9.382558e+00  1.687534e+01   \n",
       "\n",
       "                 V5            V6            V7            V8            V9  \\\n",
       "count  2.848070e+05  2.848070e+05  2.848070e+05  2.848070e+05  2.848070e+05   \n",
       "mean  -1.552563e-15  2.010663e-15 -1.694249e-15 -1.927028e-16 -3.137024e-15   \n",
       "std    1.380247e+00  1.332271e+00  1.237094e+00  1.194353e+00  1.098632e+00   \n",
       "min   -1.137433e+02 -2.616051e+01 -4.355724e+01 -7.321672e+01 -1.343407e+01   \n",
       "25%   -6.915971e-01 -7.682956e-01 -5.540759e-01 -2.086297e-01 -6.430976e-01   \n",
       "50%   -5.433583e-02 -2.741871e-01  4.010308e-02  2.235804e-02 -5.142873e-02   \n",
       "75%    6.119264e-01  3.985649e-01  5.704361e-01  3.273459e-01  5.971390e-01   \n",
       "max    3.480167e+01  7.330163e+01  1.205895e+02  2.000721e+01  1.559499e+01   \n",
       "\n",
       "       ...           V21           V22           V23           V24  \\\n",
       "count  ...  2.848070e+05  2.848070e+05  2.848070e+05  2.848070e+05   \n",
       "mean   ...  1.537294e-16  7.959909e-16  5.367590e-16  4.458112e-15   \n",
       "std    ...  7.345240e-01  7.257016e-01  6.244603e-01  6.056471e-01   \n",
       "min    ... -3.483038e+01 -1.093314e+01 -4.480774e+01 -2.836627e+00   \n",
       "25%    ... -2.283949e-01 -5.423504e-01 -1.618463e-01 -3.545861e-01   \n",
       "50%    ... -2.945017e-02  6.781943e-03 -1.119293e-02  4.097606e-02   \n",
       "75%    ...  1.863772e-01  5.285536e-01  1.476421e-01  4.395266e-01   \n",
       "max    ...  2.720284e+01  1.050309e+01  2.252841e+01  4.584549e+00   \n",
       "\n",
       "                V25           V26           V27           V28         Amount  \\\n",
       "count  2.848070e+05  2.848070e+05  2.848070e+05  2.848070e+05  284807.000000   \n",
       "mean   1.453003e-15  1.699104e-15 -3.660161e-16 -1.206049e-16      88.349619   \n",
       "std    5.212781e-01  4.822270e-01  4.036325e-01  3.300833e-01     250.120109   \n",
       "min   -1.029540e+01 -2.604551e+00 -2.256568e+01 -1.543008e+01       0.000000   \n",
       "25%   -3.171451e-01 -3.269839e-01 -7.083953e-02 -5.295979e-02       5.600000   \n",
       "50%    1.659350e-02 -5.213911e-02  1.342146e-03  1.124383e-02      22.000000   \n",
       "75%    3.507156e-01  2.409522e-01  9.104512e-02  7.827995e-02      77.165000   \n",
       "max    7.519589e+00  3.517346e+00  3.161220e+01  3.384781e+01   25691.160000   \n",
       "\n",
       "               Class  \n",
       "count  284807.000000  \n",
       "mean        0.001727  \n",
       "std         0.041527  \n",
       "min         0.000000  \n",
       "25%         0.000000  \n",
       "50%         0.000000  \n",
       "75%         0.000000  \n",
       "max         1.000000  \n",
       "\n",
       "[8 rows x 31 columns]"
      ]
     },
     "execution_count": 12,
     "metadata": {},
     "output_type": "execute_result"
    }
   ],
   "source": [
    "df.describe()"
   ]
  },
  {
   "cell_type": "markdown",
   "metadata": {},
   "source": [
    "#### In above description table we can see that in case of Time and Amount columns the standard deviation, range, magnitude is very large, we need to scale those two columns"
   ]
  },
  {
   "cell_type": "code",
   "execution_count": 13,
   "metadata": {},
   "outputs": [],
   "source": [
    "scaler = MinMaxScaler()"
   ]
  },
  {
   "cell_type": "code",
   "execution_count": 14,
   "metadata": {},
   "outputs": [],
   "source": [
    "df['Amount'] = scaler.fit_transform(df['Amount'].values.reshape(-1,1))\n",
    "df['Time'] = scaler.fit_transform(df['Time'].values.reshape(-1,1))"
   ]
  },
  {
   "cell_type": "markdown",
   "metadata": {},
   "source": [
    "### from kdeplot and barplot, one can easily see how this dataset is heavily imbalance ! The representation of non-fraudlent class is far more than fraudlent class. Their representation should be made almost equal , otherwise we would have an accuracy paradox !"
   ]
  },
  {
   "cell_type": "markdown",
   "metadata": {},
   "source": [
    "\n",
    "-----------------------------------------------------\n",
    "\n",
    "\n",
    "### Split the dataset\n",
    "\n",
    "\n",
    "------------------------------------------------------"
   ]
  },
  {
   "cell_type": "code",
   "execution_count": 15,
   "metadata": {},
   "outputs": [
    {
     "name": "stdout",
     "output_type": "stream",
     "text": [
      "number of fraudlent transaction : 492\n",
      "number of non- fraudlent transaction : 284315\n"
     ]
    }
   ],
   "source": [
    "#what are the representation of each class in dataset, checking numbers\n",
    "\n",
    "fraudlent_df = df[df['Class']==1]\n",
    "non_fraudlent_df = df[df['Class']==0]\n",
    "\n",
    "num_fraudlent_df = len(df[df['Class']==1])\n",
    "num_non_fraudlent_df = len(df[df['Class']==0])\n",
    "\n",
    "print(f'number of fraudlent transaction : {num_fraudlent_df}')\n",
    "print(f'number of non- fraudlent transaction : {num_non_fraudlent_df}')"
   ]
  },
  {
   "cell_type": "markdown",
   "metadata": {},
   "source": [
    "#### our main aim here is to take equal representaion of Class 0 and Class 1 in our dataset to minimize data imabalance . I am taking almost 80% of 492 fraudlent transaction in train set."
   ]
  },
  {
   "cell_type": "code",
   "execution_count": 16,
   "metadata": {},
   "outputs": [],
   "source": [
    "train_fraudlent_df = resample(fraudlent_df, \n",
    "                                 replace=False,    # sample without replacement\n",
    "                                 n_samples=num_fraudlent_df-100,     #  taking 392 out of 492 in train , 80%\n",
    "                                 random_state=123) # reproducible results"
   ]
  },
  {
   "cell_type": "code",
   "execution_count": 17,
   "metadata": {},
   "outputs": [],
   "source": [
    "train_non_fraudlent_df = resample(non_fraudlent_df, \n",
    "                                 replace=False,    # sample without replacement\n",
    "                                 n_samples=num_fraudlent_df-100,     # to match minority class, taking 392 out of 284315 in train\n",
    "                                 random_state=123) # reproducible results"
   ]
  },
  {
   "cell_type": "code",
   "execution_count": 18,
   "metadata": {},
   "outputs": [
    {
     "data": {
      "text/html": [
       "<div>\n",
       "<style scoped>\n",
       "    .dataframe tbody tr th:only-of-type {\n",
       "        vertical-align: middle;\n",
       "    }\n",
       "\n",
       "    .dataframe tbody tr th {\n",
       "        vertical-align: top;\n",
       "    }\n",
       "\n",
       "    .dataframe thead th {\n",
       "        text-align: right;\n",
       "    }\n",
       "</style>\n",
       "<table border=\"1\" class=\"dataframe\">\n",
       "  <thead>\n",
       "    <tr style=\"text-align: right;\">\n",
       "      <th></th>\n",
       "      <th>Time</th>\n",
       "      <th>V1</th>\n",
       "      <th>V2</th>\n",
       "      <th>V3</th>\n",
       "      <th>V4</th>\n",
       "      <th>V5</th>\n",
       "      <th>V6</th>\n",
       "      <th>V7</th>\n",
       "      <th>V8</th>\n",
       "      <th>V9</th>\n",
       "      <th>...</th>\n",
       "      <th>V21</th>\n",
       "      <th>V22</th>\n",
       "      <th>V23</th>\n",
       "      <th>V24</th>\n",
       "      <th>V25</th>\n",
       "      <th>V26</th>\n",
       "      <th>V27</th>\n",
       "      <th>V28</th>\n",
       "      <th>Amount</th>\n",
       "      <th>Class</th>\n",
       "    </tr>\n",
       "  </thead>\n",
       "  <tbody>\n",
       "    <tr>\n",
       "      <th>143480</th>\n",
       "      <td>0.494120</td>\n",
       "      <td>-1.337885</td>\n",
       "      <td>0.261692</td>\n",
       "      <td>2.646536</td>\n",
       "      <td>-1.973014</td>\n",
       "      <td>-0.933318</td>\n",
       "      <td>-1.123839</td>\n",
       "      <td>0.277759</td>\n",
       "      <td>-0.039386</td>\n",
       "      <td>1.111226</td>\n",
       "      <td>...</td>\n",
       "      <td>0.332076</td>\n",
       "      <td>1.124621</td>\n",
       "      <td>-0.312253</td>\n",
       "      <td>0.968527</td>\n",
       "      <td>0.570910</td>\n",
       "      <td>-0.704900</td>\n",
       "      <td>0.253527</td>\n",
       "      <td>0.169347</td>\n",
       "      <td>0.002827</td>\n",
       "      <td>0</td>\n",
       "    </tr>\n",
       "    <tr>\n",
       "      <th>163666</th>\n",
       "      <td>0.672120</td>\n",
       "      <td>2.081591</td>\n",
       "      <td>-0.774080</td>\n",
       "      <td>-0.674991</td>\n",
       "      <td>-0.322871</td>\n",
       "      <td>-0.890005</td>\n",
       "      <td>-0.801469</td>\n",
       "      <td>-0.532596</td>\n",
       "      <td>-0.280944</td>\n",
       "      <td>-0.354142</td>\n",
       "      <td>...</td>\n",
       "      <td>-0.329597</td>\n",
       "      <td>-0.310603</td>\n",
       "      <td>0.268725</td>\n",
       "      <td>0.020092</td>\n",
       "      <td>-0.359343</td>\n",
       "      <td>0.555034</td>\n",
       "      <td>-0.025385</td>\n",
       "      <td>-0.044868</td>\n",
       "      <td>0.001374</td>\n",
       "      <td>0</td>\n",
       "    </tr>\n",
       "    <tr>\n",
       "      <th>137005</th>\n",
       "      <td>0.474420</td>\n",
       "      <td>-0.332971</td>\n",
       "      <td>1.188389</td>\n",
       "      <td>1.308248</td>\n",
       "      <td>0.052384</td>\n",
       "      <td>0.087272</td>\n",
       "      <td>-0.966515</td>\n",
       "      <td>0.750302</td>\n",
       "      <td>-0.108085</td>\n",
       "      <td>-0.488491</td>\n",
       "      <td>...</td>\n",
       "      <td>-0.258700</td>\n",
       "      <td>-0.638700</td>\n",
       "      <td>-0.029226</td>\n",
       "      <td>0.346024</td>\n",
       "      <td>-0.140051</td>\n",
       "      <td>0.070181</td>\n",
       "      <td>0.250678</td>\n",
       "      <td>0.099306</td>\n",
       "      <td>0.000039</td>\n",
       "      <td>0</td>\n",
       "    </tr>\n",
       "    <tr>\n",
       "      <th>155649</th>\n",
       "      <td>0.613495</td>\n",
       "      <td>-0.830622</td>\n",
       "      <td>1.222904</td>\n",
       "      <td>1.859594</td>\n",
       "      <td>-0.318554</td>\n",
       "      <td>0.272904</td>\n",
       "      <td>0.080357</td>\n",
       "      <td>0.385614</td>\n",
       "      <td>-0.167806</td>\n",
       "      <td>1.502836</td>\n",
       "      <td>...</td>\n",
       "      <td>-0.242243</td>\n",
       "      <td>-0.528849</td>\n",
       "      <td>-0.360037</td>\n",
       "      <td>-0.740677</td>\n",
       "      <td>0.367026</td>\n",
       "      <td>-0.700618</td>\n",
       "      <td>-0.323105</td>\n",
       "      <td>0.064605</td>\n",
       "      <td>0.000083</td>\n",
       "      <td>0</td>\n",
       "    </tr>\n",
       "    <tr>\n",
       "      <th>219246</th>\n",
       "      <td>0.819772</td>\n",
       "      <td>1.964854</td>\n",
       "      <td>0.306862</td>\n",
       "      <td>-2.347355</td>\n",
       "      <td>1.144732</td>\n",
       "      <td>1.453977</td>\n",
       "      <td>-0.144400</td>\n",
       "      <td>0.871268</td>\n",
       "      <td>-0.209065</td>\n",
       "      <td>-0.308091</td>\n",
       "      <td>...</td>\n",
       "      <td>0.392735</td>\n",
       "      <td>1.461507</td>\n",
       "      <td>-0.126488</td>\n",
       "      <td>-0.910153</td>\n",
       "      <td>0.646694</td>\n",
       "      <td>-0.101542</td>\n",
       "      <td>0.000524</td>\n",
       "      <td>-0.089904</td>\n",
       "      <td>0.000039</td>\n",
       "      <td>0</td>\n",
       "    </tr>\n",
       "  </tbody>\n",
       "</table>\n",
       "<p>5 rows × 31 columns</p>\n",
       "</div>"
      ],
      "text/plain": [
       "            Time        V1        V2        V3        V4        V5        V6  \\\n",
       "143480  0.494120 -1.337885  0.261692  2.646536 -1.973014 -0.933318 -1.123839   \n",
       "163666  0.672120  2.081591 -0.774080 -0.674991 -0.322871 -0.890005 -0.801469   \n",
       "137005  0.474420 -0.332971  1.188389  1.308248  0.052384  0.087272 -0.966515   \n",
       "155649  0.613495 -0.830622  1.222904  1.859594 -0.318554  0.272904  0.080357   \n",
       "219246  0.819772  1.964854  0.306862 -2.347355  1.144732  1.453977 -0.144400   \n",
       "\n",
       "              V7        V8        V9  ...       V21       V22       V23  \\\n",
       "143480  0.277759 -0.039386  1.111226  ...  0.332076  1.124621 -0.312253   \n",
       "163666 -0.532596 -0.280944 -0.354142  ... -0.329597 -0.310603  0.268725   \n",
       "137005  0.750302 -0.108085 -0.488491  ... -0.258700 -0.638700 -0.029226   \n",
       "155649  0.385614 -0.167806  1.502836  ... -0.242243 -0.528849 -0.360037   \n",
       "219246  0.871268 -0.209065 -0.308091  ...  0.392735  1.461507 -0.126488   \n",
       "\n",
       "             V24       V25       V26       V27       V28    Amount  Class  \n",
       "143480  0.968527  0.570910 -0.704900  0.253527  0.169347  0.002827      0  \n",
       "163666  0.020092 -0.359343  0.555034 -0.025385 -0.044868  0.001374      0  \n",
       "137005  0.346024 -0.140051  0.070181  0.250678  0.099306  0.000039      0  \n",
       "155649 -0.740677  0.367026 -0.700618 -0.323105  0.064605  0.000083      0  \n",
       "219246 -0.910153  0.646694 -0.101542  0.000524 -0.089904  0.000039      0  \n",
       "\n",
       "[5 rows x 31 columns]"
      ]
     },
     "execution_count": 18,
     "metadata": {},
     "output_type": "execute_result"
    }
   ],
   "source": [
    "train_non_fraudlent_df.head()"
   ]
  },
  {
   "cell_type": "code",
   "execution_count": 19,
   "metadata": {},
   "outputs": [
    {
     "data": {
      "text/html": [
       "<div>\n",
       "<style scoped>\n",
       "    .dataframe tbody tr th:only-of-type {\n",
       "        vertical-align: middle;\n",
       "    }\n",
       "\n",
       "    .dataframe tbody tr th {\n",
       "        vertical-align: top;\n",
       "    }\n",
       "\n",
       "    .dataframe thead th {\n",
       "        text-align: right;\n",
       "    }\n",
       "</style>\n",
       "<table border=\"1\" class=\"dataframe\">\n",
       "  <thead>\n",
       "    <tr style=\"text-align: right;\">\n",
       "      <th></th>\n",
       "      <th>Time</th>\n",
       "      <th>V1</th>\n",
       "      <th>V2</th>\n",
       "      <th>V3</th>\n",
       "      <th>V4</th>\n",
       "      <th>V5</th>\n",
       "      <th>V6</th>\n",
       "      <th>V7</th>\n",
       "      <th>V8</th>\n",
       "      <th>V9</th>\n",
       "      <th>...</th>\n",
       "      <th>V21</th>\n",
       "      <th>V22</th>\n",
       "      <th>V23</th>\n",
       "      <th>V24</th>\n",
       "      <th>V25</th>\n",
       "      <th>V26</th>\n",
       "      <th>V27</th>\n",
       "      <th>V28</th>\n",
       "      <th>Amount</th>\n",
       "      <th>Class</th>\n",
       "    </tr>\n",
       "  </thead>\n",
       "  <tbody>\n",
       "    <tr>\n",
       "      <th>108258</th>\n",
       "      <td>0.409903</td>\n",
       "      <td>0.196707</td>\n",
       "      <td>1.189757</td>\n",
       "      <td>0.704882</td>\n",
       "      <td>2.891388</td>\n",
       "      <td>0.045555</td>\n",
       "      <td>1.245730</td>\n",
       "      <td>-1.198714</td>\n",
       "      <td>-2.421616</td>\n",
       "      <td>-1.232089</td>\n",
       "      <td>...</td>\n",
       "      <td>-1.328132</td>\n",
       "      <td>0.189311</td>\n",
       "      <td>-0.005524</td>\n",
       "      <td>-0.814708</td>\n",
       "      <td>0.400924</td>\n",
       "      <td>0.286281</td>\n",
       "      <td>0.135215</td>\n",
       "      <td>0.257315</td>\n",
       "      <td>0.000030</td>\n",
       "      <td>1</td>\n",
       "    </tr>\n",
       "    <tr>\n",
       "      <th>15810</th>\n",
       "      <td>0.157716</td>\n",
       "      <td>-25.942434</td>\n",
       "      <td>14.601998</td>\n",
       "      <td>-27.368650</td>\n",
       "      <td>6.378395</td>\n",
       "      <td>-19.104033</td>\n",
       "      <td>-4.684806</td>\n",
       "      <td>-18.261393</td>\n",
       "      <td>17.052566</td>\n",
       "      <td>-3.742605</td>\n",
       "      <td>...</td>\n",
       "      <td>1.784316</td>\n",
       "      <td>-1.917759</td>\n",
       "      <td>-1.235787</td>\n",
       "      <td>0.161105</td>\n",
       "      <td>1.820378</td>\n",
       "      <td>-0.219359</td>\n",
       "      <td>1.388786</td>\n",
       "      <td>0.406810</td>\n",
       "      <td>0.003892</td>\n",
       "      <td>1</td>\n",
       "    </tr>\n",
       "    <tr>\n",
       "      <th>144108</th>\n",
       "      <td>0.496939</td>\n",
       "      <td>-3.586964</td>\n",
       "      <td>2.609127</td>\n",
       "      <td>-5.568577</td>\n",
       "      <td>3.631947</td>\n",
       "      <td>-4.543590</td>\n",
       "      <td>-0.157899</td>\n",
       "      <td>-4.089128</td>\n",
       "      <td>2.417305</td>\n",
       "      <td>-3.239901</td>\n",
       "      <td>...</td>\n",
       "      <td>1.024423</td>\n",
       "      <td>0.428756</td>\n",
       "      <td>0.182032</td>\n",
       "      <td>-0.534598</td>\n",
       "      <td>0.168933</td>\n",
       "      <td>-0.149844</td>\n",
       "      <td>0.685517</td>\n",
       "      <td>-0.299728</td>\n",
       "      <td>0.012083</td>\n",
       "      <td>1</td>\n",
       "    </tr>\n",
       "    <tr>\n",
       "      <th>154371</th>\n",
       "      <td>0.586329</td>\n",
       "      <td>-25.825982</td>\n",
       "      <td>19.167239</td>\n",
       "      <td>-25.390229</td>\n",
       "      <td>11.125435</td>\n",
       "      <td>-16.682644</td>\n",
       "      <td>3.933699</td>\n",
       "      <td>-37.060311</td>\n",
       "      <td>-28.759799</td>\n",
       "      <td>-11.126624</td>\n",
       "      <td>...</td>\n",
       "      <td>-16.922016</td>\n",
       "      <td>5.703684</td>\n",
       "      <td>3.510019</td>\n",
       "      <td>0.054330</td>\n",
       "      <td>-0.671983</td>\n",
       "      <td>-0.209431</td>\n",
       "      <td>-4.950022</td>\n",
       "      <td>-0.448413</td>\n",
       "      <td>0.000089</td>\n",
       "      <td>1</td>\n",
       "    </tr>\n",
       "    <tr>\n",
       "      <th>80760</th>\n",
       "      <td>0.339379</td>\n",
       "      <td>-0.451383</td>\n",
       "      <td>2.225147</td>\n",
       "      <td>-4.953050</td>\n",
       "      <td>4.342228</td>\n",
       "      <td>-3.656190</td>\n",
       "      <td>-0.020121</td>\n",
       "      <td>-5.407554</td>\n",
       "      <td>-0.748436</td>\n",
       "      <td>-1.362198</td>\n",
       "      <td>...</td>\n",
       "      <td>-0.575924</td>\n",
       "      <td>0.495889</td>\n",
       "      <td>1.154128</td>\n",
       "      <td>-0.016186</td>\n",
       "      <td>-2.079928</td>\n",
       "      <td>-0.554377</td>\n",
       "      <td>0.455179</td>\n",
       "      <td>0.001321</td>\n",
       "      <td>0.004434</td>\n",
       "      <td>1</td>\n",
       "    </tr>\n",
       "  </tbody>\n",
       "</table>\n",
       "<p>5 rows × 31 columns</p>\n",
       "</div>"
      ],
      "text/plain": [
       "            Time         V1         V2         V3         V4         V5  \\\n",
       "108258  0.409903   0.196707   1.189757   0.704882   2.891388   0.045555   \n",
       "15810   0.157716 -25.942434  14.601998 -27.368650   6.378395 -19.104033   \n",
       "144108  0.496939  -3.586964   2.609127  -5.568577   3.631947  -4.543590   \n",
       "154371  0.586329 -25.825982  19.167239 -25.390229  11.125435 -16.682644   \n",
       "80760   0.339379  -0.451383   2.225147  -4.953050   4.342228  -3.656190   \n",
       "\n",
       "              V6         V7         V8         V9  ...        V21       V22  \\\n",
       "108258  1.245730  -1.198714  -2.421616  -1.232089  ...  -1.328132  0.189311   \n",
       "15810  -4.684806 -18.261393  17.052566  -3.742605  ...   1.784316 -1.917759   \n",
       "144108 -0.157899  -4.089128   2.417305  -3.239901  ...   1.024423  0.428756   \n",
       "154371  3.933699 -37.060311 -28.759799 -11.126624  ... -16.922016  5.703684   \n",
       "80760  -0.020121  -5.407554  -0.748436  -1.362198  ...  -0.575924  0.495889   \n",
       "\n",
       "             V23       V24       V25       V26       V27       V28    Amount  \\\n",
       "108258 -0.005524 -0.814708  0.400924  0.286281  0.135215  0.257315  0.000030   \n",
       "15810  -1.235787  0.161105  1.820378 -0.219359  1.388786  0.406810  0.003892   \n",
       "144108  0.182032 -0.534598  0.168933 -0.149844  0.685517 -0.299728  0.012083   \n",
       "154371  3.510019  0.054330 -0.671983 -0.209431 -4.950022 -0.448413  0.000089   \n",
       "80760   1.154128 -0.016186 -2.079928 -0.554377  0.455179  0.001321  0.004434   \n",
       "\n",
       "        Class  \n",
       "108258      1  \n",
       "15810       1  \n",
       "144108      1  \n",
       "154371      1  \n",
       "80760       1  \n",
       "\n",
       "[5 rows x 31 columns]"
      ]
     },
     "execution_count": 19,
     "metadata": {},
     "output_type": "execute_result"
    }
   ],
   "source": [
    "train_fraudlent_df.head()"
   ]
  },
  {
   "cell_type": "code",
   "execution_count": 20,
   "metadata": {},
   "outputs": [
    {
     "data": {
      "text/plain": [
       "(392, 31)"
      ]
     },
     "execution_count": 20,
     "metadata": {},
     "output_type": "execute_result"
    }
   ],
   "source": [
    "train_non_fraudlent_df.shape"
   ]
  },
  {
   "cell_type": "code",
   "execution_count": 21,
   "metadata": {},
   "outputs": [
    {
     "data": {
      "text/plain": [
       "(392, 31)"
      ]
     },
     "execution_count": 21,
     "metadata": {},
     "output_type": "execute_result"
    }
   ],
   "source": [
    "train_fraudlent_df.shape"
   ]
  },
  {
   "cell_type": "code",
   "execution_count": 22,
   "metadata": {},
   "outputs": [],
   "source": [
    "train_df = pd.concat([train_non_fraudlent_df, train_fraudlent_df]) # final training set"
   ]
  },
  {
   "cell_type": "code",
   "execution_count": 23,
   "metadata": {},
   "outputs": [],
   "source": [
    "train_df = train_df.sample(frac=1)   # shuffling the whole train dataframe"
   ]
  },
  {
   "cell_type": "code",
   "execution_count": 24,
   "metadata": {},
   "outputs": [
    {
     "data": {
      "text/html": [
       "<div>\n",
       "<style scoped>\n",
       "    .dataframe tbody tr th:only-of-type {\n",
       "        vertical-align: middle;\n",
       "    }\n",
       "\n",
       "    .dataframe tbody tr th {\n",
       "        vertical-align: top;\n",
       "    }\n",
       "\n",
       "    .dataframe thead th {\n",
       "        text-align: right;\n",
       "    }\n",
       "</style>\n",
       "<table border=\"1\" class=\"dataframe\">\n",
       "  <thead>\n",
       "    <tr style=\"text-align: right;\">\n",
       "      <th></th>\n",
       "      <th>Time</th>\n",
       "      <th>V1</th>\n",
       "      <th>V2</th>\n",
       "      <th>V3</th>\n",
       "      <th>V4</th>\n",
       "      <th>V5</th>\n",
       "      <th>V6</th>\n",
       "      <th>V7</th>\n",
       "      <th>V8</th>\n",
       "      <th>V9</th>\n",
       "      <th>...</th>\n",
       "      <th>V21</th>\n",
       "      <th>V22</th>\n",
       "      <th>V23</th>\n",
       "      <th>V24</th>\n",
       "      <th>V25</th>\n",
       "      <th>V26</th>\n",
       "      <th>V27</th>\n",
       "      <th>V28</th>\n",
       "      <th>Amount</th>\n",
       "      <th>Class</th>\n",
       "    </tr>\n",
       "  </thead>\n",
       "  <tbody>\n",
       "    <tr>\n",
       "      <th>52521</th>\n",
       "      <td>0.263328</td>\n",
       "      <td>1.001992</td>\n",
       "      <td>0.047938</td>\n",
       "      <td>-0.349002</td>\n",
       "      <td>1.493958</td>\n",
       "      <td>0.186939</td>\n",
       "      <td>0.190966</td>\n",
       "      <td>-0.001112</td>\n",
       "      <td>0.147140</td>\n",
       "      <td>0.580415</td>\n",
       "      <td>...</td>\n",
       "      <td>-0.334417</td>\n",
       "      <td>-1.014315</td>\n",
       "      <td>-0.128427</td>\n",
       "      <td>-0.946242</td>\n",
       "      <td>0.456090</td>\n",
       "      <td>-0.453206</td>\n",
       "      <td>0.046627</td>\n",
       "      <td>0.064698</td>\n",
       "      <td>4.125544e-03</td>\n",
       "      <td>1</td>\n",
       "    </tr>\n",
       "    <tr>\n",
       "      <th>77348</th>\n",
       "      <td>0.329917</td>\n",
       "      <td>-1.271244</td>\n",
       "      <td>2.462675</td>\n",
       "      <td>-2.851395</td>\n",
       "      <td>2.324480</td>\n",
       "      <td>-1.372245</td>\n",
       "      <td>-0.948196</td>\n",
       "      <td>-3.065234</td>\n",
       "      <td>1.166927</td>\n",
       "      <td>-2.268771</td>\n",
       "      <td>...</td>\n",
       "      <td>0.652941</td>\n",
       "      <td>0.081931</td>\n",
       "      <td>-0.221348</td>\n",
       "      <td>-0.523582</td>\n",
       "      <td>0.224228</td>\n",
       "      <td>0.756335</td>\n",
       "      <td>0.632800</td>\n",
       "      <td>0.250187</td>\n",
       "      <td>3.892389e-07</td>\n",
       "      <td>1</td>\n",
       "    </tr>\n",
       "    <tr>\n",
       "      <th>102444</th>\n",
       "      <td>0.394735</td>\n",
       "      <td>-13.192671</td>\n",
       "      <td>12.785971</td>\n",
       "      <td>-9.906650</td>\n",
       "      <td>3.320337</td>\n",
       "      <td>-4.801176</td>\n",
       "      <td>5.760059</td>\n",
       "      <td>-18.750889</td>\n",
       "      <td>-37.353443</td>\n",
       "      <td>-0.391540</td>\n",
       "      <td>...</td>\n",
       "      <td>27.202839</td>\n",
       "      <td>-8.887017</td>\n",
       "      <td>5.303607</td>\n",
       "      <td>-0.639435</td>\n",
       "      <td>0.263203</td>\n",
       "      <td>-0.108877</td>\n",
       "      <td>1.269566</td>\n",
       "      <td>0.939407</td>\n",
       "      <td>3.892389e-05</td>\n",
       "      <td>1</td>\n",
       "    </tr>\n",
       "    <tr>\n",
       "      <th>154985</th>\n",
       "      <td>0.601382</td>\n",
       "      <td>-0.584354</td>\n",
       "      <td>1.687656</td>\n",
       "      <td>-0.824543</td>\n",
       "      <td>0.462724</td>\n",
       "      <td>1.965918</td>\n",
       "      <td>-1.426432</td>\n",
       "      <td>2.164792</td>\n",
       "      <td>-1.266514</td>\n",
       "      <td>0.982610</td>\n",
       "      <td>...</td>\n",
       "      <td>0.082398</td>\n",
       "      <td>0.766984</td>\n",
       "      <td>-0.224897</td>\n",
       "      <td>-0.230704</td>\n",
       "      <td>-0.451234</td>\n",
       "      <td>-0.753287</td>\n",
       "      <td>-0.934028</td>\n",
       "      <td>-0.140684</td>\n",
       "      <td>3.853466e-04</td>\n",
       "      <td>0</td>\n",
       "    </tr>\n",
       "    <tr>\n",
       "      <th>117957</th>\n",
       "      <td>0.433400</td>\n",
       "      <td>1.219661</td>\n",
       "      <td>1.121000</td>\n",
       "      <td>-2.157328</td>\n",
       "      <td>1.545964</td>\n",
       "      <td>1.751149</td>\n",
       "      <td>0.332003</td>\n",
       "      <td>0.182626</td>\n",
       "      <td>0.222810</td>\n",
       "      <td>-0.020855</td>\n",
       "      <td>...</td>\n",
       "      <td>-0.440100</td>\n",
       "      <td>-1.003212</td>\n",
       "      <td>-0.357910</td>\n",
       "      <td>-2.117555</td>\n",
       "      <td>0.863884</td>\n",
       "      <td>-0.219413</td>\n",
       "      <td>0.093550</td>\n",
       "      <td>0.095178</td>\n",
       "      <td>3.892389e-05</td>\n",
       "      <td>0</td>\n",
       "    </tr>\n",
       "  </tbody>\n",
       "</table>\n",
       "<p>5 rows × 31 columns</p>\n",
       "</div>"
      ],
      "text/plain": [
       "            Time         V1         V2        V3        V4        V5  \\\n",
       "52521   0.263328   1.001992   0.047938 -0.349002  1.493958  0.186939   \n",
       "77348   0.329917  -1.271244   2.462675 -2.851395  2.324480 -1.372245   \n",
       "102444  0.394735 -13.192671  12.785971 -9.906650  3.320337 -4.801176   \n",
       "154985  0.601382  -0.584354   1.687656 -0.824543  0.462724  1.965918   \n",
       "117957  0.433400   1.219661   1.121000 -2.157328  1.545964  1.751149   \n",
       "\n",
       "              V6         V7         V8        V9  ...        V21       V22  \\\n",
       "52521   0.190966  -0.001112   0.147140  0.580415  ...  -0.334417 -1.014315   \n",
       "77348  -0.948196  -3.065234   1.166927 -2.268771  ...   0.652941  0.081931   \n",
       "102444  5.760059 -18.750889 -37.353443 -0.391540  ...  27.202839 -8.887017   \n",
       "154985 -1.426432   2.164792  -1.266514  0.982610  ...   0.082398  0.766984   \n",
       "117957  0.332003   0.182626   0.222810 -0.020855  ...  -0.440100 -1.003212   \n",
       "\n",
       "             V23       V24       V25       V26       V27       V28  \\\n",
       "52521  -0.128427 -0.946242  0.456090 -0.453206  0.046627  0.064698   \n",
       "77348  -0.221348 -0.523582  0.224228  0.756335  0.632800  0.250187   \n",
       "102444  5.303607 -0.639435  0.263203 -0.108877  1.269566  0.939407   \n",
       "154985 -0.224897 -0.230704 -0.451234 -0.753287 -0.934028 -0.140684   \n",
       "117957 -0.357910 -2.117555  0.863884 -0.219413  0.093550  0.095178   \n",
       "\n",
       "              Amount  Class  \n",
       "52521   4.125544e-03      1  \n",
       "77348   3.892389e-07      1  \n",
       "102444  3.892389e-05      1  \n",
       "154985  3.853466e-04      0  \n",
       "117957  3.892389e-05      0  \n",
       "\n",
       "[5 rows x 31 columns]"
      ]
     },
     "execution_count": 24,
     "metadata": {},
     "output_type": "execute_result"
    }
   ],
   "source": [
    "train_df.head()"
   ]
  },
  {
   "cell_type": "code",
   "execution_count": 25,
   "metadata": {},
   "outputs": [],
   "source": [
    "train_df_index = train_df.index"
   ]
  },
  {
   "cell_type": "code",
   "execution_count": 26,
   "metadata": {},
   "outputs": [],
   "source": [
    "df.drop(train_df_index, inplace=True ) # after dropping the rows from train dataframe , the remaining will be used for testing"
   ]
  },
  {
   "cell_type": "code",
   "execution_count": 27,
   "metadata": {},
   "outputs": [],
   "source": [
    "train_df.reset_index(drop=True, inplace=True)"
   ]
  },
  {
   "cell_type": "code",
   "execution_count": 28,
   "metadata": {},
   "outputs": [],
   "source": [
    "df.reset_index(drop=True, inplace=True)"
   ]
  },
  {
   "cell_type": "markdown",
   "metadata": {},
   "source": [
    "#### training set"
   ]
  },
  {
   "cell_type": "code",
   "execution_count": 29,
   "metadata": {},
   "outputs": [],
   "source": [
    "x_train = train_df.values[:,:-1]"
   ]
  },
  {
   "cell_type": "code",
   "execution_count": 30,
   "metadata": {},
   "outputs": [],
   "source": [
    "y_train = train_df.values[:,-1]"
   ]
  },
  {
   "cell_type": "code",
   "execution_count": 31,
   "metadata": {},
   "outputs": [
    {
     "data": {
      "text/plain": [
       "(784, 30)"
      ]
     },
     "execution_count": 31,
     "metadata": {},
     "output_type": "execute_result"
    }
   ],
   "source": [
    "x_train.shape"
   ]
  },
  {
   "cell_type": "code",
   "execution_count": 32,
   "metadata": {},
   "outputs": [
    {
     "data": {
      "text/plain": [
       "(784,)"
      ]
     },
     "execution_count": 32,
     "metadata": {},
     "output_type": "execute_result"
    }
   ],
   "source": [
    "y_train.shape"
   ]
  },
  {
   "cell_type": "markdown",
   "metadata": {},
   "source": [
    "#### test set"
   ]
  },
  {
   "cell_type": "code",
   "execution_count": 33,
   "metadata": {},
   "outputs": [],
   "source": [
    "x_test = df.values[:,:-1]"
   ]
  },
  {
   "cell_type": "code",
   "execution_count": 34,
   "metadata": {},
   "outputs": [],
   "source": [
    "y_test  = df.values[:,-1]"
   ]
  },
  {
   "cell_type": "code",
   "execution_count": 35,
   "metadata": {},
   "outputs": [
    {
     "data": {
      "text/plain": [
       "(284023, 30)"
      ]
     },
     "execution_count": 35,
     "metadata": {},
     "output_type": "execute_result"
    }
   ],
   "source": [
    "x_test.shape"
   ]
  },
  {
   "cell_type": "code",
   "execution_count": 36,
   "metadata": {},
   "outputs": [
    {
     "data": {
      "text/plain": [
       "(284023,)"
      ]
     },
     "execution_count": 36,
     "metadata": {},
     "output_type": "execute_result"
    }
   ],
   "source": [
    "y_test.shape"
   ]
  },
  {
   "cell_type": "markdown",
   "metadata": {},
   "source": [
    "-----------------------------------------------------------------------------------------------------------------\n",
    "\n",
    "\n",
    "#### some basic ML model testing, before making  a neural net \n",
    "\n",
    "\n",
    "-----------------------------------------------------------------------------------------------------------------"
   ]
  },
  {
   "cell_type": "markdown",
   "metadata": {},
   "source": [
    "### knn"
   ]
  },
  {
   "cell_type": "code",
   "execution_count": 37,
   "metadata": {},
   "outputs": [
    {
     "data": {
      "text/plain": [
       "KNeighborsClassifier(algorithm='auto', leaf_size=30, metric='minkowski',\n",
       "                     metric_params=None, n_jobs=None, n_neighbors=5, p=2,\n",
       "                     weights='uniform')"
      ]
     },
     "execution_count": 37,
     "metadata": {},
     "output_type": "execute_result"
    }
   ],
   "source": [
    "knn_model = KNeighborsClassifier()\n",
    "knn_model.fit(x_train, y_train)"
   ]
  },
  {
   "cell_type": "code",
   "execution_count": 38,
   "metadata": {},
   "outputs": [],
   "source": [
    "predictions_knn = knn_model.predict(x_test)"
   ]
  },
  {
   "cell_type": "code",
   "execution_count": 39,
   "metadata": {},
   "outputs": [
    {
     "data": {
      "text/plain": [
       "0.9770159458917059"
      ]
     },
     "execution_count": 39,
     "metadata": {},
     "output_type": "execute_result"
    }
   ],
   "source": [
    "knn_model.score(x_test,y_test)"
   ]
  },
  {
   "cell_type": "markdown",
   "metadata": {},
   "source": [
    "### lr"
   ]
  },
  {
   "cell_type": "code",
   "execution_count": 40,
   "metadata": {},
   "outputs": [
    {
     "data": {
      "text/plain": [
       "LogisticRegression(C=1.0, class_weight=None, dual=False, fit_intercept=True,\n",
       "                   intercept_scaling=1, l1_ratio=None, max_iter=100,\n",
       "                   multi_class='auto', n_jobs=None, penalty='l2',\n",
       "                   random_state=None, solver='lbfgs', tol=0.0001, verbose=0,\n",
       "                   warm_start=False)"
      ]
     },
     "execution_count": 40,
     "metadata": {},
     "output_type": "execute_result"
    }
   ],
   "source": [
    "logreg = LogisticRegression()\n",
    "logreg.fit(x_train, y_train)"
   ]
  },
  {
   "cell_type": "code",
   "execution_count": 41,
   "metadata": {},
   "outputs": [],
   "source": [
    "predictions_log = logreg.predict(x_test)"
   ]
  },
  {
   "cell_type": "code",
   "execution_count": 42,
   "metadata": {},
   "outputs": [
    {
     "data": {
      "text/plain": [
       "0.9753646711709967"
      ]
     },
     "execution_count": 42,
     "metadata": {},
     "output_type": "execute_result"
    }
   ],
   "source": [
    "logreg.score(x_test,y_test)"
   ]
  },
  {
   "cell_type": "markdown",
   "metadata": {},
   "source": [
    "### DecisionTree"
   ]
  },
  {
   "cell_type": "code",
   "execution_count": 43,
   "metadata": {},
   "outputs": [],
   "source": [
    "dec_tree = DecisionTreeClassifier(random_state=0)\n",
    "dec_tree.fit(x_train, y_train)\n",
    "predictions_dt = dec_tree.predict(x_test)"
   ]
  },
  {
   "cell_type": "code",
   "execution_count": 44,
   "metadata": {},
   "outputs": [
    {
     "data": {
      "text/plain": [
       "0.8970681951813761"
      ]
     },
     "execution_count": 44,
     "metadata": {},
     "output_type": "execute_result"
    }
   ],
   "source": [
    "dec_tree.score(x_test,y_test)"
   ]
  },
  {
   "cell_type": "markdown",
   "metadata": {},
   "source": [
    "### Random Forrest"
   ]
  },
  {
   "cell_type": "code",
   "execution_count": 45,
   "metadata": {},
   "outputs": [],
   "source": [
    "ran_for = RandomForestClassifier(random_state=0)\n",
    "ran_for.fit(x_train, y_train)\n",
    "predictions_rf = ran_for.predict(x_test)"
   ]
  },
  {
   "cell_type": "code",
   "execution_count": 46,
   "metadata": {},
   "outputs": [
    {
     "data": {
      "text/plain": [
       "0.980015702953634"
      ]
     },
     "execution_count": 46,
     "metadata": {},
     "output_type": "execute_result"
    }
   ],
   "source": [
    "ran_for.score(x_test,y_test)"
   ]
  },
  {
   "cell_type": "markdown",
   "metadata": {},
   "source": [
    "### Gradient Boost"
   ]
  },
  {
   "cell_type": "code",
   "execution_count": 47,
   "metadata": {},
   "outputs": [],
   "source": [
    "gb = GradientBoostingClassifier(random_state=0)\n",
    "gb.fit(x_train, y_train)\n",
    "predictions_gb = gb.predict(x_test)"
   ]
  },
  {
   "cell_type": "code",
   "execution_count": 48,
   "metadata": {},
   "outputs": [
    {
     "data": {
      "text/plain": [
       "0.9622248902377625"
      ]
     },
     "execution_count": 48,
     "metadata": {},
     "output_type": "execute_result"
    }
   ],
   "source": [
    "gb.score(x_test,y_test)"
   ]
  },
  {
   "cell_type": "code",
   "execution_count": 49,
   "metadata": {},
   "outputs": [],
   "source": [
    "prediction_list = [predictions_knn, predictions_log,  predictions_dt, predictions_rf, predictions_gb ]\n",
    "name = ['KNN','LOGISTIC REGRESSION', 'DECISION TREE', 'RANDOM FORREST', 'GRADIENT BOOST']  "
   ]
  },
  {
   "cell_type": "code",
   "execution_count": 50,
   "metadata": {},
   "outputs": [],
   "source": [
    "def plot_confusion_matrix(cm,classes,normalize=False,\n",
    "                          title='confusion_matrix',cmap=plt.cm.Blues):\n",
    "    plt.imshow(cm,interpolation='nearest',cmap= cmap)\n",
    "    plt.title(title)\n",
    "    plt.colorbar()\n",
    "    tick_marks = np.arange(len(classes))\n",
    "    plt.xticks(tick_marks,classes,rotation=30)\n",
    "    plt.yticks(tick_marks,classes)\n",
    "    if normalize:\n",
    "        cm = cm.astype('float')/cm.sum(axis=1)[:,np.newaxis]\n",
    "        print('Normalized Confusion Matrix')\n",
    "    else:\n",
    "        print('confusion  matrix without normalization')\n",
    "    print(cm)\n",
    "    \n",
    "    thresh = cm.max()/2\n",
    "    for i,j in itertools.product(range(cm.shape[0]),range(cm.shape[1])):\n",
    "        plt.text(j,i,cm[i,j],\n",
    "                 horizontalalignment='center',\n",
    "                 color='white' if cm[i,j]>thresh else \"black\")\n",
    "    plt.tight_layout()\n",
    "    plt.ylabel('true label')\n",
    "\n",
    "    plt.xlabel('predicted label')"
   ]
  },
  {
   "cell_type": "code",
   "execution_count": 51,
   "metadata": {},
   "outputs": [
    {
     "name": "stdout",
     "output_type": "stream",
     "text": [
      "confusion  matrix without normalization\n",
      "[[277406   6517]\n",
      " [    11     89]]\n",
      "confusion  matrix without normalization\n",
      "[[276935   6988]\n",
      " [     9     91]]\n",
      "confusion  matrix without normalization\n",
      "[[254698  29225]\n",
      " [    10     90]]\n",
      "confusion  matrix without normalization\n",
      "[[278257   5666]\n",
      " [    10     90]]\n",
      "confusion  matrix without normalization\n",
      "[[273205  10718]\n",
      " [    11     89]]\n"
     ]
    },
    {
     "data": {
      "image/png": "[encoded data removed]",
      "text/plain": [
       "<Figure size 1080x1080 with 10 Axes>"
      ]
     },
     "metadata": {
      "needs_background": "light"
     },
     "output_type": "display_data"
    }
   ],
   "source": [
    "plt.figure(figsize=(15,15))\n",
    "for i in range(5):\n",
    "    plt.subplot(3,2,i+1)\n",
    "    cm = confusion_matrix(y_test, prediction_list[i])\n",
    "    cm_plot_labels = ['Non-Fraudlent', 'Fraudlent']\n",
    "    _ = plot_confusion_matrix(cm,cm_plot_labels,title=f'{name[i]}')"
   ]
  },
  {
   "cell_type": "markdown",
   "metadata": {},
   "source": [
    "<a id=\"cnn\"></a>\n",
    "### 4. Model Architecture"
   ]
  },
  {
   "cell_type": "markdown",
   "metadata": {},
   "source": [
    "#### Set hyperparameters"
   ]
  },
  {
   "cell_type": "code",
   "execution_count": 52,
   "metadata": {},
   "outputs": [],
   "source": [
    "activation_fn           = 'relu'\n",
    "num_hidden_unit_layer_1 = 30\n",
    "num_hidden_unit_layer_2 = 32\n",
    "num_output_unit         = 2\n",
    "num_epoch               = 20\n",
    "batch_size              = 10\n",
    "learning_rate           = 0.001"
   ]
  },
  {
   "cell_type": "markdown",
   "metadata": {},
   "source": [
    "#### Define the model"
   ]
  },
  {
   "cell_type": "code",
   "execution_count": 53,
   "metadata": {},
   "outputs": [],
   "source": [
    "nn=Sequential([\n",
    "    Dense(30, input_shape=(30,), activation=activation_fn),\n",
    "    Dense(32, activation=activation_fn),\n",
    "    Dense(num_output_unit, activation='softmax')\n",
    "])"
   ]
  },
  {
   "cell_type": "code",
   "execution_count": 54,
   "metadata": {},
   "outputs": [
    {
     "name": "stdout",
     "output_type": "stream",
     "text": [
      "Model: \"sequential_1\"\n",
      "_________________________________________________________________\n",
      "Layer (type)                 Output Shape              Param #   \n",
      "=================================================================\n",
      "dense_1 (Dense)              (None, 30)                930       \n",
      "_________________________________________________________________\n",
      "dense_2 (Dense)              (None, 32)                992       \n",
      "_________________________________________________________________\n",
      "dense_3 (Dense)              (None, 2)                 66        \n",
      "=================================================================\n",
      "Total params: 1,988\n",
      "Trainable params: 1,988\n",
      "Non-trainable params: 0\n",
      "_________________________________________________________________\n"
     ]
    }
   ],
   "source": [
    "nn.summary()"
   ]
  },
  {
   "cell_type": "markdown",
   "metadata": {},
   "source": [
    "#### Set optimizer "
   ]
  },
  {
   "cell_type": "code",
   "execution_count": 55,
   "metadata": {},
   "outputs": [],
   "source": [
    "optimizer = Adam(lr=learning_rate)"
   ]
  },
  {
   "cell_type": "markdown",
   "metadata": {},
   "source": [
    "#### Compile model"
   ]
  },
  {
   "cell_type": "code",
   "execution_count": 56,
   "metadata": {},
   "outputs": [],
   "source": [
    "nn.compile(optimizer, loss='sparse_categorical_crossentropy', metrics=['accuracy'])"
   ]
  },
  {
   "cell_type": "markdown",
   "metadata": {},
   "source": [
    "#### Train model"
   ]
  },
  {
   "cell_type": "code",
   "execution_count": 57,
   "metadata": {},
   "outputs": [
    {
     "name": "stdout",
     "output_type": "stream",
     "text": [
      "Train on 627 samples, validate on 157 samples\n",
      "Epoch 1/20\n",
      " - 1s - loss: 0.3662 - accuracy: 0.8278 - val_loss: 0.2298 - val_accuracy: 0.9363\n",
      "Epoch 2/20\n",
      " - 0s - loss: 0.2035 - accuracy: 0.9346 - val_loss: 0.1751 - val_accuracy: 0.9490\n",
      "Epoch 3/20\n",
      " - 0s - loss: 0.1617 - accuracy: 0.9394 - val_loss: 0.1591 - val_accuracy: 0.9490\n",
      "Epoch 4/20\n",
      " - 0s - loss: 0.1398 - accuracy: 0.9426 - val_loss: 0.1518 - val_accuracy: 0.9490\n",
      "Epoch 5/20\n",
      " - 0s - loss: 0.1247 - accuracy: 0.9490 - val_loss: 0.1492 - val_accuracy: 0.9490\n",
      "Epoch 6/20\n",
      " - 0s - loss: 0.1142 - accuracy: 0.9537 - val_loss: 0.1426 - val_accuracy: 0.9490\n",
      "Epoch 7/20\n",
      " - 1s - loss: 0.1018 - accuracy: 0.9649 - val_loss: 0.1397 - val_accuracy: 0.9490\n",
      "Epoch 8/20\n",
      " - 0s - loss: 0.0948 - accuracy: 0.9633 - val_loss: 0.1376 - val_accuracy: 0.9490\n",
      "Epoch 9/20\n",
      " - 0s - loss: 0.0884 - accuracy: 0.9665 - val_loss: 0.1388 - val_accuracy: 0.9554\n",
      "Epoch 10/20\n",
      " - 1s - loss: 0.0807 - accuracy: 0.9713 - val_loss: 0.1327 - val_accuracy: 0.9554\n",
      "Epoch 11/20\n",
      " - 0s - loss: 0.0730 - accuracy: 0.9729 - val_loss: 0.1377 - val_accuracy: 0.9554\n",
      "Epoch 12/20\n",
      " - 0s - loss: 0.0676 - accuracy: 0.9713 - val_loss: 0.1363 - val_accuracy: 0.9554\n",
      "Epoch 13/20\n",
      " - 0s - loss: 0.0605 - accuracy: 0.9793 - val_loss: 0.1424 - val_accuracy: 0.9490\n",
      "Epoch 14/20\n",
      " - 0s - loss: 0.0590 - accuracy: 0.9825 - val_loss: 0.1382 - val_accuracy: 0.9554\n",
      "Epoch 15/20\n",
      " - 0s - loss: 0.0535 - accuracy: 0.9809 - val_loss: 0.1337 - val_accuracy: 0.9618\n",
      "Epoch 16/20\n",
      " - 0s - loss: 0.0503 - accuracy: 0.9841 - val_loss: 0.1435 - val_accuracy: 0.9554\n",
      "Epoch 17/20\n",
      " - 0s - loss: 0.0426 - accuracy: 0.9856 - val_loss: 0.1415 - val_accuracy: 0.9554\n",
      "Epoch 18/20\n",
      " - 0s - loss: 0.0391 - accuracy: 0.9872 - val_loss: 0.1450 - val_accuracy: 0.9618\n",
      "Epoch 19/20\n",
      " - 0s - loss: 0.0351 - accuracy: 0.9936 - val_loss: 0.1419 - val_accuracy: 0.9554\n",
      "Epoch 20/20\n",
      " - 0s - loss: 0.0318 - accuracy: 0.9920 - val_loss: 0.1435 - val_accuracy: 0.9618\n"
     ]
    }
   ],
   "source": [
    "history =nn.fit(x_train, y_train, validation_split=0.2, batch_size=batch_size, epochs=num_epoch, shuffle=True, verbose=2)"
   ]
  },
  {
   "cell_type": "markdown",
   "metadata": {},
   "source": [
    "<a id=\"eval\"></a>\n",
    "### 5. Model Evaluation"
   ]
  },
  {
   "cell_type": "markdown",
   "metadata": {},
   "source": [
    "#### Training Accuracy vs Validation Accuracy"
   ]
  },
  {
   "cell_type": "code",
   "execution_count": 58,
   "metadata": {},
   "outputs": [
    {
     "data": {
      "image/png": "[encoded data removed]",
      "text/plain": [
       "<Figure size 432x288 with 1 Axes>"
      ]
     },
     "metadata": {
      "needs_background": "light"
     },
     "output_type": "display_data"
    }
   ],
   "source": [
    "# summarize history for accuracy\n",
    "\n",
    "plt.plot(history.history['accuracy'])\n",
    "plt.plot(history.history['val_accuracy'])\n",
    "plt.title('Training Accuracy vs Validation Accuracy')\n",
    "plt.ylabel('accuracy')\n",
    "plt.xlabel('epoch')\n",
    "plt.legend(['train', 'validation'], loc='upper left')\n",
    "plt.show()\n"
   ]
  },
  {
   "cell_type": "markdown",
   "metadata": {},
   "source": [
    "#### Training Loss vs Validation Loss"
   ]
  },
  {
   "cell_type": "code",
   "execution_count": 59,
   "metadata": {},
   "outputs": [
    {
     "data": {
      "image/png": "[encoded data removed]",
      "text/plain": [
       "<Figure size 432x288 with 1 Axes>"
      ]
     },
     "metadata": {
      "needs_background": "light"
     },
     "output_type": "display_data"
    }
   ],
   "source": [
    "# summarize history for loss\n",
    "plt.plot(history.history['loss'])\n",
    "plt.plot(history.history['val_loss'])\n",
    "plt.title('Training Loss vs Validation Loss')\n",
    "plt.ylabel('loss')\n",
    "plt.xlabel('epoch')\n",
    "plt.legend(['train', 'validation'], loc='upper left')\n",
    "plt.show()\n"
   ]
  },
  {
   "cell_type": "markdown",
   "metadata": {},
   "source": [
    "#### Model Accuracy"
   ]
  },
  {
   "cell_type": "code",
   "execution_count": 60,
   "metadata": {},
   "outputs": [
    {
     "name": "stdout",
     "output_type": "stream",
     "text": [
      "284023/284023 [==============================] - 9s 31us/step\n"
     ]
    }
   ],
   "source": [
    "score, acc = nn.evaluate(x_test, y_test,batch_size=100)"
   ]
  },
  {
   "cell_type": "code",
   "execution_count": 61,
   "metadata": {},
   "outputs": [
    {
     "name": "stdout",
     "output_type": "stream",
     "text": [
      "Test Score   : 0.13977243510878712\n",
      "Test Accuracy:   0.9575949907302856\n"
     ]
    }
   ],
   "source": [
    "print(f'Test Score   : {score}')\n",
    "print(f'Test Accuracy:   {acc}')"
   ]
  },
  {
   "cell_type": "markdown",
   "metadata": {},
   "source": [
    "#### Observations:\n",
    "\n",
    "96%  test accuracy is a decent value .Also, in the test set there was only 100 fraudlent transaction and remaining 283923 are non-fraudlent, so our main purpose will be to see how each label has been classified. It is important to note that if we hadn't done previous imbalance removal we may get an more accurate model , but there all fraudlent transaction would just be considered a noise. So , in that case the error would be more critical. "
   ]
  },
  {
   "cell_type": "markdown",
   "metadata": {},
   "source": [
    "<a id=\"predict\"></a>\n",
    "### 6. Prediction"
   ]
  },
  {
   "cell_type": "code",
   "execution_count": 62,
   "metadata": {},
   "outputs": [],
   "source": [
    "predict =nn.predict(x_test)"
   ]
  },
  {
   "cell_type": "code",
   "execution_count": 63,
   "metadata": {},
   "outputs": [],
   "source": [
    "predictions = nn.predict_classes(x_test, batch_size=100, verbose=0)"
   ]
  },
  {
   "cell_type": "code",
   "execution_count": 64,
   "metadata": {},
   "outputs": [],
   "source": [
    "cm = confusion_matrix(y_test, predictions)"
   ]
  },
  {
   "cell_type": "code",
   "execution_count": 65,
   "metadata": {},
   "outputs": [
    {
     "name": "stdout",
     "output_type": "stream",
     "text": [
      "confusion  matrix without normalization\n",
      "[[271888  12035]\n",
      " [     9     91]]\n"
     ]
    },
    {
     "data": {
      "image/png": "[encoded data removed]",
      "text/plain": [
       "<Figure size 432x288 with 2 Axes>"
      ]
     },
     "metadata": {
      "needs_background": "light"
     },
     "output_type": "display_data"
    }
   ],
   "source": [
    "cm_plot_labels = ['Non-Fraudlent', 'Fraudlent']\n",
    "_ = plot_confusion_matrix(cm,cm_plot_labels,title='Confusion_matrix')"
   ]
  },
  {
   "cell_type": "markdown",
   "metadata": {},
   "source": [
    "#### From the confusion matrix we can see that the imbalance issue has been properly handled as both the classes has pretty high test accuracy."
   ]
  },
  {
   "cell_type": "markdown",
   "metadata": {},
   "source": [
    "<a id=\"save\"></a>\n",
    "### 7. Save Model to Disk"
   ]
  },
  {
   "cell_type": "code",
   "execution_count": 66,
   "metadata": {},
   "outputs": [],
   "source": [
    "# nn.save('credit_card_fraud_detection.h5')"
   ]
  }
 ],
 "metadata": {
  "kernelspec": {
   "display_name": "Python 3",
   "language": "python",
   "name": "python3"
  },
  "language_info": {
   "codemirror_mode": {
    "name": "ipython",
    "version": 3
   },
   "file_extension": ".py",
   "mimetype": "text/x-python",
   "name": "python",
   "nbconvert_exporter": "python",
   "pygments_lexer": "ipython3",
   "version": "3.7.6"
  }
 },
 "nbformat": 4,
 "nbformat_minor": 4
}
